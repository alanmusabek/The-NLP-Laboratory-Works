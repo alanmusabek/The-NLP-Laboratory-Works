{
 "cells": [
  {
   "cell_type": "code",
   "execution_count": 22,
   "metadata": {},
   "outputs": [],
   "source": [
    "import pandas as pd\n",
    "import numpy as np\n",
    "from tqdm import tqdm_notebook\n"
   ]
  },
  {
   "cell_type": "code",
   "execution_count": 23,
   "metadata": {},
   "outputs": [
    {
     "name": "stderr",
     "output_type": "stream",
     "text": [
      "/var/folders/_3/4_xtd3hj54s46hcqc_qgl8dm0000gn/T/ipykernel_85589/2382939539.py:1: DtypeWarning: Columns (3) have mixed types. Specify dtype option on import or set low_memory=False.\n",
      "  ds = pd.read_csv('lenta-ru-news.csv')\n"
     ]
    },
    {
     "data": {
      "text/html": [
       "<div>\n",
       "<style scoped>\n",
       "    .dataframe tbody tr th:only-of-type {\n",
       "        vertical-align: middle;\n",
       "    }\n",
       "\n",
       "    .dataframe tbody tr th {\n",
       "        vertical-align: top;\n",
       "    }\n",
       "\n",
       "    .dataframe thead th {\n",
       "        text-align: right;\n",
       "    }\n",
       "</style>\n",
       "<table border=\"1\" class=\"dataframe\">\n",
       "  <thead>\n",
       "    <tr style=\"text-align: right;\">\n",
       "      <th></th>\n",
       "      <th>url</th>\n",
       "      <th>title</th>\n",
       "      <th>text</th>\n",
       "      <th>topic</th>\n",
       "      <th>tags</th>\n",
       "      <th>date</th>\n",
       "    </tr>\n",
       "  </thead>\n",
       "  <tbody>\n",
       "    <tr>\n",
       "      <th>0</th>\n",
       "      <td>https://lenta.ru/news/1914/09/16/hungarnn/</td>\n",
       "      <td>1914. Русские войска вступили в пределы Венгрии</td>\n",
       "      <td>Бои у Сопоцкина и Друскеник закончились отступ...</td>\n",
       "      <td>Библиотека</td>\n",
       "      <td>Первая мировая</td>\n",
       "      <td>1914/09/16</td>\n",
       "    </tr>\n",
       "    <tr>\n",
       "      <th>1</th>\n",
       "      <td>https://lenta.ru/news/1914/09/16/lermontov/</td>\n",
       "      <td>1914. Празднование столетия М.Ю. Лермонтова от...</td>\n",
       "      <td>Министерство народного просвещения, в виду про...</td>\n",
       "      <td>Библиотека</td>\n",
       "      <td>Первая мировая</td>\n",
       "      <td>1914/09/16</td>\n",
       "    </tr>\n",
       "    <tr>\n",
       "      <th>2</th>\n",
       "      <td>https://lenta.ru/news/1914/09/17/nesteroff/</td>\n",
       "      <td>1914. Das ist Nesteroff!</td>\n",
       "      <td>Штабс-капитан П. Н. Нестеров на днях, увидев в...</td>\n",
       "      <td>Библиотека</td>\n",
       "      <td>Первая мировая</td>\n",
       "      <td>1914/09/17</td>\n",
       "    </tr>\n",
       "    <tr>\n",
       "      <th>3</th>\n",
       "      <td>https://lenta.ru/news/1914/09/17/bulldogn/</td>\n",
       "      <td>1914. Бульдог-гонец под Льежем</td>\n",
       "      <td>Фотограф-корреспондент Daily Mirror рассказыва...</td>\n",
       "      <td>Библиотека</td>\n",
       "      <td>Первая мировая</td>\n",
       "      <td>1914/09/17</td>\n",
       "    </tr>\n",
       "    <tr>\n",
       "      <th>4</th>\n",
       "      <td>https://lenta.ru/news/1914/09/18/zver/</td>\n",
       "      <td>1914. Под Люблином пойман швабский зверь</td>\n",
       "      <td>Лица, приехавшие в Варшаву из Люблина, передаю...</td>\n",
       "      <td>Библиотека</td>\n",
       "      <td>Первая мировая</td>\n",
       "      <td>1914/09/18</td>\n",
       "    </tr>\n",
       "  </tbody>\n",
       "</table>\n",
       "</div>"
      ],
      "text/plain": [
       "                                           url  \\\n",
       "0   https://lenta.ru/news/1914/09/16/hungarnn/   \n",
       "1  https://lenta.ru/news/1914/09/16/lermontov/   \n",
       "2  https://lenta.ru/news/1914/09/17/nesteroff/   \n",
       "3   https://lenta.ru/news/1914/09/17/bulldogn/   \n",
       "4       https://lenta.ru/news/1914/09/18/zver/   \n",
       "\n",
       "                                               title  \\\n",
       "0  1914. Русские войска вступили в пределы Венгрии     \n",
       "1  1914. Празднование столетия М.Ю. Лермонтова от...   \n",
       "2                           1914. Das ist Nesteroff!   \n",
       "3                    1914. Бульдог-гонец под Льежем    \n",
       "4           1914. Под Люблином пойман швабский зверь   \n",
       "\n",
       "                                                text       topic  \\\n",
       "0  Бои у Сопоцкина и Друскеник закончились отступ...  Библиотека   \n",
       "1  Министерство народного просвещения, в виду про...  Библиотека   \n",
       "2  Штабс-капитан П. Н. Нестеров на днях, увидев в...  Библиотека   \n",
       "3  Фотограф-корреспондент Daily Mirror рассказыва...  Библиотека   \n",
       "4  Лица, приехавшие в Варшаву из Люблина, передаю...  Библиотека   \n",
       "\n",
       "             tags        date  \n",
       "0  Первая мировая  1914/09/16  \n",
       "1  Первая мировая  1914/09/16  \n",
       "2  Первая мировая  1914/09/17  \n",
       "3  Первая мировая  1914/09/17  \n",
       "4  Первая мировая  1914/09/18  "
      ]
     },
     "execution_count": 23,
     "metadata": {},
     "output_type": "execute_result"
    }
   ],
   "source": [
    "ds = pd.read_csv('lenta-ru-news.csv')\n",
    "ds.head()"
   ]
  },
  {
   "cell_type": "code",
   "execution_count": 24,
   "metadata": {},
   "outputs": [
    {
     "data": {
      "text/plain": [
       "(800975, 6)"
      ]
     },
     "execution_count": 24,
     "metadata": {},
     "output_type": "execute_result"
    }
   ],
   "source": [
    "ds.shape"
   ]
  },
  {
   "cell_type": "code",
   "execution_count": 25,
   "metadata": {},
   "outputs": [
    {
     "data": {
      "text/plain": [
       "url          0\n",
       "title        0\n",
       "text         5\n",
       "topic    62002\n",
       "tags     27219\n",
       "date         0\n",
       "dtype: int64"
      ]
     },
     "execution_count": 25,
     "metadata": {},
     "output_type": "execute_result"
    }
   ],
   "source": [
    "ds.isnull().sum()"
   ]
  },
  {
   "cell_type": "code",
   "execution_count": 26,
   "metadata": {},
   "outputs": [
    {
     "data": {
      "text/plain": [
       "(712654, 6)"
      ]
     },
     "execution_count": 26,
     "metadata": {},
     "output_type": "execute_result"
    }
   ],
   "source": [
    "ds.dropna(inplace= True)\n",
    "ds.shape"
   ]
  },
  {
   "cell_type": "code",
   "execution_count": 27,
   "metadata": {},
   "outputs": [],
   "source": [
    "ds_sample = ds.sample(n=1000)\n",
    "ds_sample.to_csv('ds_sample.csv',index = False)"
   ]
  },
  {
   "cell_type": "code",
   "execution_count": 28,
   "metadata": {},
   "outputs": [],
   "source": [
    "new_data = pd.read_csv('ds_sample.csv')"
   ]
  },
  {
   "cell_type": "code",
   "execution_count": 29,
   "metadata": {},
   "outputs": [
    {
     "data": {
      "text/plain": [
       "(1000, 6)"
      ]
     },
     "execution_count": 29,
     "metadata": {},
     "output_type": "execute_result"
    }
   ],
   "source": [
    "new_data.dropna(inplace = True)\n",
    "new_data.shape"
   ]
  },
  {
   "cell_type": "markdown",
   "metadata": {},
   "source": [
    "# Data exploration"
   ]
  },
  {
   "cell_type": "code",
   "execution_count": 30,
   "metadata": {},
   "outputs": [],
   "source": [
    "from collections import Counter"
   ]
  },
  {
   "cell_type": "code",
   "execution_count": 33,
   "metadata": {
    "scrolled": true
   },
   "outputs": [
    {
     "data": {
      "text/plain": [
       "Counter({'Все': 626,\n",
       "         'Политика': 50,\n",
       "         'Общество': 36,\n",
       "         'Происшествия': 30,\n",
       "         'Украина': 29,\n",
       "         'Госэкономика': 18,\n",
       "         'Футбол': 17,\n",
       "         'Бизнес': 17,\n",
       "         'Интернет': 12,\n",
       "         'Наука': 11,\n",
       "         'Летние виды': 10,\n",
       "         'Следствие и суд': 9,\n",
       "         'Музыка': 9,\n",
       "         'Кино': 7,\n",
       "         'Стиль': 7,\n",
       "         'Coцсети': 6,\n",
       "         'Космос': 6,\n",
       "         'Люди': 6,\n",
       "         'Преступность': 5,\n",
       "         'Искусство': 5,\n",
       "         'Регионы': 5,\n",
       "         'Игры': 5,\n",
       "         'Город': 5,\n",
       "         'Явления': 4,\n",
       "         'Прибалтика': 4,\n",
       "         'Гаджеты': 4,\n",
       "         'Бокс и ММА': 4,\n",
       "         'Конфликты': 3,\n",
       "         'События': 3,\n",
       "         'Квартира': 3,\n",
       "         'Москва': 3,\n",
       "         'Деловой климат': 3,\n",
       "         'Криминал': 3,\n",
       "         'ТВ и радио': 3,\n",
       "         'Закавказье': 3,\n",
       "         'Мир': 2,\n",
       "         'Рынки': 2,\n",
       "         'Пресса': 2,\n",
       "         'Оружие': 2,\n",
       "         'Дача': 2,\n",
       "         'Преступная Россия': 2,\n",
       "         'Техника': 2,\n",
       "         'Мировой бизнес': 2,\n",
       "         'Средняя Азия': 1,\n",
       "         'Театр': 1,\n",
       "         'Офис': 1,\n",
       "         'Деньги': 1,\n",
       "         'Вирусные ролики': 1,\n",
       "         'Мнения': 1,\n",
       "         'Молдавия': 1,\n",
       "         'Звери': 1,\n",
       "         'Белоруссия': 1,\n",
       "         'Зимние виды': 1,\n",
       "         'Внешний вид': 1,\n",
       "         'Киберпреступность': 1,\n",
       "         'Книги': 1})"
      ]
     },
     "execution_count": 33,
     "metadata": {},
     "output_type": "execute_result"
    }
   ],
   "source": [
    "Counter(ds_sample.tags)"
   ]
  },
  {
   "cell_type": "code",
   "execution_count": 34,
   "metadata": {
    "scrolled": true
   },
   "outputs": [
    {
     "data": {
      "text/plain": [
       "{'Все': 453581,\n",
       " 'Политика': 33220,\n",
       " 'Общество': 27560,\n",
       " 'Украина': 17934,\n",
       " 'Происшествия': 15972,\n",
       " 'Футбол': 13128,\n",
       " 'Госэкономика': 12869,\n",
       " 'Кино': 9109,\n",
       " 'Бизнес': 8224,\n",
       " 'Интернет': 7945,\n",
       " 'Наука': 6975,\n",
       " 'Следствие и суд': 6825,\n",
       " 'Музыка': 5822,\n",
       " 'Люди': 5184,\n",
       " 'Преступность': 4737,\n",
       " 'Квартира': 3759,\n",
       " 'Космос': 3622,\n",
       " 'События': 3161,\n",
       " 'Конфликты': 3136,\n",
       " 'ТВ и радио': 3028,\n",
       " 'Coцсети': 2924,\n",
       " 'Летние виды': 2893,\n",
       " 'Деловой климат': 2656,\n",
       " 'Регионы': 2639,\n",
       " 'Криминал': 2550,\n",
       " 'Явления': 2523,\n",
       " 'Бокс и ММА': 2443,\n",
       " 'Звери': 2278,\n",
       " 'Город': 2247,\n",
       " 'Гаджеты': 2183,\n",
       " 'Мир': 2121,\n",
       " 'Стиль': 2090,\n",
       " 'Игры': 2072,\n",
       " 'Рынки': 2012,\n",
       " 'Пресса': 1805,\n",
       " 'Искусство': 1795,\n",
       " 'Зимние виды': 1677,\n",
       " 'Полиция и спецслужбы': 1635,\n",
       " 'Закавказье': 1442,\n",
       " 'Деньги': 1361,\n",
       " 'Москва': 1312,\n",
       " 'Прибалтика': 1242,\n",
       " 'Театр': 1217,\n",
       " 'Оружие': 1216,\n",
       " 'Техника': 1208,\n",
       " 'Книги': 1208,\n",
       " 'Средняя Азия': 1131,\n",
       " 'Дача': 1084,\n",
       " 'Белоруссия': 916,\n",
       " 'Хоккей': 915,\n",
       " 'Мировой бизнес': 854,\n",
       " 'Движение': 834,\n",
       " 'Офис': 783,\n",
       " 'Внешний вид': 727,\n",
       " 'Достижения': 718,\n",
       " 'Инструменты': 710,\n",
       " 'Россия': 706,\n",
       " 'Часы': 662,\n",
       " 'Софт': 652,\n",
       " 'Мнения': 615,\n",
       " 'Мемы': 477,\n",
       " 'Вирусные ролики': 474,\n",
       " 'Еда': 457,\n",
       " 'Молдавия': 439,\n",
       " 'Вещи': 424,\n",
       " 'Реклама': 389,\n",
       " 'История': 347,\n",
       " 'Жизнь': 333,\n",
       " 'Автобизнес': 310,\n",
       " 'Киберпреступность': 169,\n",
       " 'Финансы компаний': 155,\n",
       " 'Преступная Россия': 144,\n",
       " 'Авто': 141,\n",
       " 'Туризм': 85,\n",
       " 'Социальная сфера': 70,\n",
       " 'Первая мировая': 65,\n",
       " 'Вкусы': 54,\n",
       " 'Экология': 53,\n",
       " 'Наследие': 46,\n",
       " 'Госрегулирование': 41,\n",
       " 'Производители': 36,\n",
       " 'Аналитика рынка': 28,\n",
       " 'Фотография': 28,\n",
       " 'Страноведение': 21,\n",
       " 'Выборы': 11,\n",
       " 'Мировой опыт': 6,\n",
       " 'Вооружение': 3,\n",
       " 'Инновации': 1}"
      ]
     },
     "execution_count": 34,
     "metadata": {},
     "output_type": "execute_result"
    }
   ],
   "source": [
    "cntr = Counter(ds.tags)\n",
    "{k: v for k, v in sorted(cntr.items(), key=lambda item: item[1], reverse=True)}"
   ]
  },
  {
   "cell_type": "code",
   "execution_count": 41,
   "metadata": {},
   "outputs": [
    {
     "name": "stderr",
     "output_type": "stream",
     "text": [
      "<>:11: SyntaxWarning: invalid escape sequence '\\,'\n",
      "<>:11: SyntaxWarning: invalid escape sequence '\\,'\n",
      "/var/folders/_3/4_xtd3hj54s46hcqc_qgl8dm0000gn/T/ipykernel_85589/2946871861.py:11: SyntaxWarning: invalid escape sequence '\\,'\n",
      "  punctuations = '''!()-[]{};:'\"\\,<>./?@#$%^&*_~abcdefghijklmnopqrstuvwxyzABCDEFGHIJKLMNOPQRSTUVWXYZ1234567890'''\n",
      "/var/folders/_3/4_xtd3hj54s46hcqc_qgl8dm0000gn/T/ipykernel_85589/2946871861.py:26: TqdmDeprecationWarning: This function will be removed in tqdm==5.0.0\n",
      "Please use `tqdm.notebook.tqdm` instead of `tqdm.tqdm_notebook`\n",
      "  no_punc_text = [rem_punc(t) for t in tqdm_notebook(texts)]\n"
     ]
    },
    {
     "data": {
      "application/vnd.jupyter.widget-view+json": {
       "model_id": "4f965d760c94488fb535bd6030159479",
       "version_major": 2,
       "version_minor": 0
      },
      "text/plain": [
       "  0%|          | 0/1000 [00:00<?, ?it/s]"
      ]
     },
     "metadata": {},
     "output_type": "display_data"
    }
   ],
   "source": [
    "texts = ds_sample.text.values\n",
    "#remove punctuation\n",
    "\n",
    "def rem_punc(t):\n",
    "# define punctuation\n",
    "    punctuations = '''!()-[]{};:'\"\\,<>./?@#$%^&*_~abcdefghijklmnopqrstuvwxyzABCDEFGHIJKLMNOPQRSTUVWXYZ1234567890'''\n",
    "\n",
    "\n",
    "# remove punctuation from the string\n",
    "    for c in punctuations:\n",
    "        t=t.replace(c,' ')\n",
    "\n",
    "\n",
    "# display the unpunctuated string\n",
    "    return t.replace('\\n',' ')\n",
    "\n",
    "\n",
    "no_punc_text = [rem_punc(t) for t in tqdm_notebook(texts)]"
   ]
  },
  {
   "cell_type": "code",
   "execution_count": 42,
   "metadata": {},
   "outputs": [
    {
     "name": "stderr",
     "output_type": "stream",
     "text": [
      "/var/folders/_3/4_xtd3hj54s46hcqc_qgl8dm0000gn/T/ipykernel_85589/1263936609.py:2: TqdmDeprecationWarning: This function will be removed in tqdm==5.0.0\n",
      "Please use `tqdm.notebook.tqdm` instead of `tqdm.tqdm_notebook`\n",
      "  lc_text = [t.lower() for t in tqdm_notebook(no_punc_text)]\n"
     ]
    },
    {
     "data": {
      "application/vnd.jupyter.widget-view+json": {
       "model_id": "01d111623f1d4978a462b51ad62f15a3",
       "version_major": 2,
       "version_minor": 0
      },
      "text/plain": [
       "  0%|          | 0/1000 [00:00<?, ?it/s]"
      ]
     },
     "metadata": {},
     "output_type": "display_data"
    },
    {
     "data": {
      "text/plain": [
       "'питерский  зенит  сделал предложение об условиях личного контракта полузащитнику московского  динамо  и сборной россии по футболу игорю семшову  об этом пишет газета   спорт экспресс   если игрок примет предложение  его зарплата вырастет почти в два раза  в составе  зенита  семшов может заменить на позиции центрального полузащитника нынешнего капитана команды анатолия тимощука  который недавно изъявил желание покинуть питерский клуб  в контракте    летнего футболиста с  динамо  прописана сумма отступных  по данным издания  она составляет около восьми миллионов евро   при выплате которых руководство московского клуба не сможет препятствовать переходу игрока  ранее интерес к семшову проявляли чемпион россии казанский  рубин   а также московский  спартак   сам футболист признал  что у него есть предложения  но отметил  что вначале побеседует с руководством  динамо   срок действующего соглашения семшова с  динамо  истекает в конце      года '"
      ]
     },
     "execution_count": 42,
     "metadata": {},
     "output_type": "execute_result"
    }
   ],
   "source": [
    "#lowercase\n",
    "lc_text = [t.lower() for t in tqdm_notebook(no_punc_text)]\n",
    "lc_text[0]"
   ]
  },
  {
   "cell_type": "code",
   "execution_count": 43,
   "metadata": {},
   "outputs": [
    {
     "name": "stderr",
     "output_type": "stream",
     "text": [
      "[nltk_data] Downloading package stopwords to /Users/user/nltk_data...\n",
      "[nltk_data]   Package stopwords is already up-to-date!\n"
     ]
    }
   ],
   "source": [
    "#stopword removal\n",
    "import nltk\n",
    "from nltk.corpus import stopwords\n",
    "import nltk\n",
    "nltk.download('stopwords')\n",
    "sw = stopwords.words('russian')"
   ]
  },
  {
   "cell_type": "code",
   "execution_count": 47,
   "metadata": {},
   "outputs": [
    {
     "name": "stdout",
     "output_type": "stream",
     "text": [
      "Original: ['Я', 'очень', 'люблю', 'изучать', 'обработку', 'естественного', 'языка']\n",
      "Without stopwords: ['очень', 'люблю', 'изучать', 'обработку', 'естественного', 'языка']\n"
     ]
    }
   ],
   "source": [
    "text = \"Я очень люблю изучать обработку естественного языка\"\n",
    "\n",
    "# tokenize into words\n",
    "words = nltk.word_tokenize(text, language=\"russian\")\n",
    "\n",
    "# filter out stopwords\n",
    "filtered = [w for w in words if w.lower() not in sw]\n",
    "\n",
    "print(\"Original:\", words)\n",
    "print(\"Without stopwords:\", filtered)"
   ]
  },
  {
   "cell_type": "code",
   "execution_count": 48,
   "metadata": {},
   "outputs": [
    {
     "data": {
      "text/html": [
       "<div>\n",
       "<style scoped>\n",
       "    .dataframe tbody tr th:only-of-type {\n",
       "        vertical-align: middle;\n",
       "    }\n",
       "\n",
       "    .dataframe tbody tr th {\n",
       "        vertical-align: top;\n",
       "    }\n",
       "\n",
       "    .dataframe thead th {\n",
       "        text-align: right;\n",
       "    }\n",
       "</style>\n",
       "<table border=\"1\" class=\"dataframe\">\n",
       "  <thead>\n",
       "    <tr style=\"text-align: right;\">\n",
       "      <th></th>\n",
       "      <th>url</th>\n",
       "      <th>title</th>\n",
       "      <th>text</th>\n",
       "      <th>topic</th>\n",
       "      <th>tags</th>\n",
       "      <th>date</th>\n",
       "    </tr>\n",
       "  </thead>\n",
       "  <tbody>\n",
       "    <tr>\n",
       "      <th>0</th>\n",
       "      <td>https://lenta.ru/news/1914/09/16/hungarnn/</td>\n",
       "      <td>1914. Русские войска вступили в пределы Венгрии</td>\n",
       "      <td>Бои у Сопоцкина и Друскеник закончились отступ...</td>\n",
       "      <td>Библиотека</td>\n",
       "      <td>Первая мировая</td>\n",
       "      <td>1914/09/16</td>\n",
       "    </tr>\n",
       "    <tr>\n",
       "      <th>1</th>\n",
       "      <td>https://lenta.ru/news/1914/09/16/lermontov/</td>\n",
       "      <td>1914. Празднование столетия М.Ю. Лермонтова от...</td>\n",
       "      <td>Министерство народного просвещения, в виду про...</td>\n",
       "      <td>Библиотека</td>\n",
       "      <td>Первая мировая</td>\n",
       "      <td>1914/09/16</td>\n",
       "    </tr>\n",
       "    <tr>\n",
       "      <th>2</th>\n",
       "      <td>https://lenta.ru/news/1914/09/17/nesteroff/</td>\n",
       "      <td>1914. Das ist Nesteroff!</td>\n",
       "      <td>Штабс-капитан П. Н. Нестеров на днях, увидев в...</td>\n",
       "      <td>Библиотека</td>\n",
       "      <td>Первая мировая</td>\n",
       "      <td>1914/09/17</td>\n",
       "    </tr>\n",
       "    <tr>\n",
       "      <th>3</th>\n",
       "      <td>https://lenta.ru/news/1914/09/17/bulldogn/</td>\n",
       "      <td>1914. Бульдог-гонец под Льежем</td>\n",
       "      <td>Фотограф-корреспондент Daily Mirror рассказыва...</td>\n",
       "      <td>Библиотека</td>\n",
       "      <td>Первая мировая</td>\n",
       "      <td>1914/09/17</td>\n",
       "    </tr>\n",
       "    <tr>\n",
       "      <th>4</th>\n",
       "      <td>https://lenta.ru/news/1914/09/18/zver/</td>\n",
       "      <td>1914. Под Люблином пойман швабский зверь</td>\n",
       "      <td>Лица, приехавшие в Варшаву из Люблина, передаю...</td>\n",
       "      <td>Библиотека</td>\n",
       "      <td>Первая мировая</td>\n",
       "      <td>1914/09/18</td>\n",
       "    </tr>\n",
       "  </tbody>\n",
       "</table>\n",
       "</div>"
      ],
      "text/plain": [
       "                                           url  \\\n",
       "0   https://lenta.ru/news/1914/09/16/hungarnn/   \n",
       "1  https://lenta.ru/news/1914/09/16/lermontov/   \n",
       "2  https://lenta.ru/news/1914/09/17/nesteroff/   \n",
       "3   https://lenta.ru/news/1914/09/17/bulldogn/   \n",
       "4       https://lenta.ru/news/1914/09/18/zver/   \n",
       "\n",
       "                                               title  \\\n",
       "0  1914. Русские войска вступили в пределы Венгрии     \n",
       "1  1914. Празднование столетия М.Ю. Лермонтова от...   \n",
       "2                           1914. Das ist Nesteroff!   \n",
       "3                    1914. Бульдог-гонец под Льежем    \n",
       "4           1914. Под Люблином пойман швабский зверь   \n",
       "\n",
       "                                                text       topic  \\\n",
       "0  Бои у Сопоцкина и Друскеник закончились отступ...  Библиотека   \n",
       "1  Министерство народного просвещения, в виду про...  Библиотека   \n",
       "2  Штабс-капитан П. Н. Нестеров на днях, увидев в...  Библиотека   \n",
       "3  Фотограф-корреспондент Daily Mirror рассказыва...  Библиотека   \n",
       "4  Лица, приехавшие в Варшаву из Люблина, передаю...  Библиотека   \n",
       "\n",
       "             tags        date  \n",
       "0  Первая мировая  1914/09/16  \n",
       "1  Первая мировая  1914/09/16  \n",
       "2  Первая мировая  1914/09/17  \n",
       "3  Первая мировая  1914/09/17  \n",
       "4  Первая мировая  1914/09/18  "
      ]
     },
     "execution_count": 48,
     "metadata": {},
     "output_type": "execute_result"
    }
   ],
   "source": [
    "ds.head()"
   ]
  },
  {
   "cell_type": "code",
   "execution_count": 52,
   "metadata": {},
   "outputs": [
    {
     "data": {
      "text/plain": [
       "'1914. Русские войска вступили в\\xa0пределы Венгрии  '"
      ]
     },
     "execution_count": 52,
     "metadata": {},
     "output_type": "execute_result"
    }
   ],
   "source": [
    "ds['title'][0]"
   ]
  },
  {
   "cell_type": "code",
   "execution_count": 53,
   "metadata": {},
   "outputs": [],
   "source": [
    "words = nltk.word_tokenize(ds['title'][0], language=\"russian\")"
   ]
  },
  {
   "cell_type": "code",
   "execution_count": 54,
   "metadata": {},
   "outputs": [
    {
     "data": {
      "text/plain": [
       "['1914', '.', 'Русские', 'войска', 'вступили', 'в', 'пределы', 'Венгрии']"
      ]
     },
     "execution_count": 54,
     "metadata": {},
     "output_type": "execute_result"
    }
   ],
   "source": [
    "words"
   ]
  },
  {
   "cell_type": "code",
   "execution_count": 57,
   "metadata": {},
   "outputs": [],
   "source": [
    "# Clean the data set from stop words\n",
    "# your code"
   ]
  },
  {
   "cell_type": "code",
   "execution_count": null,
   "metadata": {},
   "outputs": [],
   "source": []
  }
 ],
 "metadata": {
  "kernelspec": {
   "display_name": "Python 3 (ipykernel)",
   "language": "python",
   "name": "python3"
  },
  "language_info": {
   "codemirror_mode": {
    "name": "ipython",
    "version": 3
   },
   "file_extension": ".py",
   "mimetype": "text/x-python",
   "name": "python",
   "nbconvert_exporter": "python",
   "pygments_lexer": "ipython3",
   "version": "3.12.4"
  }
 },
 "nbformat": 4,
 "nbformat_minor": 4
}
